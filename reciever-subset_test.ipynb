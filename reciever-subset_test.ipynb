{
 "cells": [
  {
   "cell_type": "markdown",
   "metadata": {},
   "source": [
    "### TDOA based method for source location estimation\n",
    "\n",
    "In this method, the measurement is made for time of arrival of waves. (Let us say P wave onset). (Error is present)\n",
    "As a first try we'll implement this method for known receiver positions. A modified method for receiver locations with errors will be implemented next.\n"
   ]
  },
  {
   "cell_type": "code",
   "execution_count": 1,
   "metadata": {},
   "outputs": [],
   "source": [
    "# importing required libraries\n",
    "\n",
    "import numpy as np\n",
    "import matplotlib.pyplot as plt\n",
    "from numba import jit"
   ]
  },
  {
   "cell_type": "code",
   "execution_count": 2,
   "metadata": {},
   "outputs": [],
   "source": [
    "def src_Loc(rec_pos, t_rec,c,src_pos):\n",
    "    '''The function returns the difference between the position of source(guessed) and receiver location as calculated from \n",
    "    measurement of time difference of arrival with the distance calculated from position of source and receiver. We aim to \n",
    "    minimise this quantity\n",
    "\n",
    "    rec_pos = a matrix with position of receivers stored in the following format [[x_1, y_1],[x_2,y_2]]\n",
    "    t_rec  = the time of arrival as measured from data\n",
    "    source_loc = the guessed source location for which the function is being evaluated\n",
    "    \n",
    "    '''\n",
    "    \n",
    "    n_rec = np.shape(rec_pos)[0]\n",
    "    t_rec_rel1 = np.zeros(shape=(n_rec-1,1))   # time difference calculated wrt the value in first receiver\n",
    "    \n",
    "    t_rec_rel1[:] = t_rec[1:] -t_rec[0]     \n",
    "    \n",
    "    rec_pos_src_rel = np.zeros(shape =(n_rec-1,2)) # Calculating the relative position of recivers wrt the source\n",
    "    \n",
    "    rec_pos_src_rel[:] = rec_pos[1:] -src_pos*np.ones_like(rec_pos_src_rel)  # relative position of receiver 1 wrt the source\n",
    "    \n",
    "    rec1_pos_src_rel = rec_pos[0] -src_pos # the position of receiver one wrt the source\n",
    "    \n",
    "    rec_dist_src_rel = np.zeros(shape=(n_rec-1,1))\n",
    "    \n",
    "    rec1_dist_src_rel = np.sqrt(rec1_pos_src_rel[0]**2 + rec1_pos_src_rel[1]**2)\n",
    "    \n",
    "    rec_dist_src_rel[:] = np.sqrt(rec_pos_src_rel[:,0]**2 + rec_pos_src_rel[:,1]**2).reshape(n_rec-1,1)\n",
    "    \n",
    "    delta_r = t_rec_rel1*c\n",
    "    \n",
    "    error = np.zeros(shape =(n_rec-1,1))   # defing the error to be minimized\n",
    "    error[:] = delta_r[:] - (rec_dist_src_rel[:]-rec1_dist_src_rel)   \n",
    "    \n",
    "    error_to_min =np.dot(error.T,error) # Getting a single value instead of an array\n",
    "    \n",
    "    return error_to_min\n",
    "        "
   ]
  },
  {
   "cell_type": "code",
   "execution_count": 3,
   "metadata": {},
   "outputs": [],
   "source": [
    "# testing the above function for the case of all the three receivers and the source at a single place\n",
    "\n",
    "rec_pos = np.zeros(shape =(3,2))  # Let us say that there are 3 reeivers placed at origin\n",
    "t_rec_ideal = np.zeros(shape =(3,1))  # ideal value at receivers\n",
    "noise_t = np.random.normal(loc=0.0,scale =2,size = (3,1))\n",
    "t_Rec_real = t_rec_ideal + noise_t\n",
    "\n",
    "c = 1 # velocity of propagation\n",
    "\n"
   ]
  },
  {
   "cell_type": "code",
   "execution_count": 6,
   "metadata": {},
   "outputs": [],
   "source": [
    "# Now evaluating the function at various points in 2D\n",
    "\n",
    "x,y =np.mgrid[-20:20:10j,-20:20:10j]  # a 2D grid for defining domain and evaluation of source position\n",
    "error = np.zeros(shape=(10,10))  # To store the values at various points\n",
    "\n",
    "for i in range(10):\n",
    "    for j in range(10):\n",
    "        error[i,j] = src_Loc(rec_pos=rec_pos,t_rec=t_Rec_real,c=c,src_pos=np.array([x[i,j],y[i,j]]))"
   ]
  },
  {
   "cell_type": "code",
   "execution_count": 7,
   "metadata": {},
   "outputs": [],
   "source": [
    "print(error)\n",
    "plt.contour(x,y,error/100,levels=1000)"
   ]
  },
  {
   "cell_type": "markdown",
   "metadata": {},
   "source": [
    "We find that for this test case a single value is reported as the receivers are all at same place(undetermined problem). Now tweaking the ealier code abit so that the receivers are at different positions."
   ]
  },
  {
   "cell_type": "code",
   "execution_count": 8,
   "metadata": {},
   "outputs": [],
   "source": [
    "# testing the above function for the case of all the three receivers and the source at a single place\n",
    "\n",
    "rec_pos = np.zeros(shape =(3,2))  # Let us say that there are 3 reeivers placed at origin\n",
    "rec_pos[0,:] = [3,0]\n",
    "rec_pos[1,:] = [0,2]\n",
    "rec_pos[2,:] = [-1,0]\n",
    "t_rec_ideal = np.zeros(shape =(3,1))  # ideal value at receivers\n",
    "t_rec_ideal[:] = np.array([3,2,1]).reshape(3,1)\n",
    "noise_t = np.random.normal(loc=0.0,scale =2,size = (3,1))\n",
    "t_Rec_real = t_rec_ideal + noise_t\n",
    "\n",
    "c = 1 # velocity of propagation\n"
   ]
  },
  {
   "cell_type": "code",
   "execution_count": 9,
   "metadata": {},
   "outputs": [],
   "source": [
    "# Now evaluating the function at various points in 2D\n",
    "\n",
    "x,y =np.mgrid[-4:4:10j,-4:4:10j]  # a 2D grid for defining domain and evaluation of source position\n",
    "error = np.zeros(shape=(10,10))  # To store the values at various points\n",
    "\n",
    "for i in range(10):\n",
    "    for j in range(10):\n",
    "        error[i,j] = src_Loc(rec_pos=rec_pos,t_rec=t_Rec_real,c=c,src_pos=np.array([x[i,j],y[i,j]]))"
   ]
  },
  {
   "cell_type": "code",
   "execution_count": 10,
   "metadata": {},
   "outputs": [],
   "source": [
    "plt.figure(figsize=(8,6))\n",
    "plt.contourf(x,y,error,levels=50)\n",
    "plt.xlabel('X(m)')\n",
    "plt.ylabel('Y(m)')\n",
    "plt.axis('equal')\n",
    "plt.colorbar()\n",
    "plt.title('Contour Plot for error only in time of arrival')"
   ]
  },
  {
   "cell_type": "markdown",
   "metadata": {},
   "source": [
    "This result was from a very coarse grid, let us choose a finer grid and see the result. We see that there is quite low value for error around origin which is expected."
   ]
  },
  {
   "cell_type": "code",
   "execution_count": 11,
   "metadata": {},
   "outputs": [],
   "source": [
    "# Now evaluating the function at various points in 2D\n",
    "\n",
    "x,y =np.mgrid[-4:4:40j,-4:4:40j]  # a 2D grid for defining domain and evaluation of source position\n",
    "error = np.zeros(shape=(40,40))  # To store the values at various points\n",
    "\n",
    "for i in range(40):\n",
    "    for j in range(40):\n",
    "        error[i,j] = src_Loc(rec_pos=rec_pos,t_rec=t_Rec_real,c=c,src_pos=np.array([x[i,j],y[i,j]]))"
   ]
  },
  {
   "cell_type": "code",
   "execution_count": 12,
   "metadata": {},
   "outputs": [],
   "source": [
    "plt.figure(figsize=(8,6))\n",
    "plt.contourf(x,y,error,levels=50)\n",
    "plt.xlabel('X(m)')\n",
    "plt.ylabel('Y(m)')\n",
    "plt.axis('equal')\n",
    "plt.colorbar()\n",
    "plt.title('Error contour plot for error only in time of arrival')"
   ]
  },
  {
   "cell_type": "markdown",
   "metadata": {},
   "source": [
    "Nothing much furhter can be said about it. There is still low error reqion around origin. The uncertainity is low along the x axis due to the presence of 2 receivers on this axis. There is only one receiver on y axis and hence greater uncertainity is there in y direction. Let us test it by adding one more receiver in y direction. "
   ]
  },
  {
   "cell_type": "code",
   "execution_count": 13,
   "metadata": {},
   "outputs": [],
   "source": [
    "# testing the above function for the case of all the three receivers and the source at a single place\n",
    "\n",
    "rec_pos = np.zeros(shape =(4,2))  # Let us say that there are 3 reeivers placed at origin\n",
    "rec_pos[0,:] = [3,0]\n",
    "rec_pos[1,:] = [0,2]\n",
    "rec_pos[2,:] = [-1,0]\n",
    "rec_pos[3,:] = [0,-2]\n",
    "t_rec_ideal = np.zeros(shape =(4,1))  # ideal value at receivers\n",
    "t_rec_ideal[:] = np.array([3,2,1,2]).reshape(4,1)\n",
    "noise_t = np.random.normal(loc=0.0,scale =2,size = (4,1))\n",
    "t_Rec_real = t_rec_ideal + noise_t\n",
    "\n",
    "c = 1 # velocity of propagation\n"
   ]
  },
  {
   "cell_type": "code",
   "execution_count": 14,
   "metadata": {},
   "outputs": [],
   "source": [
    "# Now evaluating the function at various points in 2D\n",
    "\n",
    "x,y =np.mgrid[-4:4:10j,-4:4:10j]  # a 2D grid for defining domain and evaluation of source position\n",
    "error = np.zeros(shape=(10,10))  # To store the values at various points\n",
    "\n",
    "for i in range(10):\n",
    "    for j in range(10):\n",
    "        error[i,j] = src_Loc(rec_pos=rec_pos,t_rec=t_Rec_real,c=c,src_pos=np.array([x[i,j],y[i,j]]))"
   ]
  },
  {
   "cell_type": "code",
   "execution_count": 15,
   "metadata": {},
   "outputs": [],
   "source": [
    "plt.figure(figsize=(8,6))\n",
    "plt.contourf(x,y,error,levels=50)\n",
    "plt.xlabel('X(m)')\n",
    "plt.ylabel('Y(m)')\n",
    "plt.axis('equal')\n",
    "plt.colorbar()\n",
    "plt.title('Error contour for error only in time of arrival')"
   ]
  },
  {
   "cell_type": "markdown",
   "metadata": {},
   "source": [
    "We see that the innermost contour for low values is quite smaller and much more symmetric than in the previous case. We also note that the towards the reciever with greatest value, the error is higher. \n",
    "\n",
    "General comment wrt noise magnitude: Adding noise of magnitude 2 leaves most of the results quite rough. Noise of lower magnitude (0.2 and 0.02) give much clearer picture, however noise reduction from 0.2 to 0.02 didn't give any significant advantage. (Need to test this multiple times, with multiple values.)"
   ]
  },
  {
   "cell_type": "markdown",
   "metadata": {},
   "source": [
    "#### Adding error in the receiver locations\n",
    "\n",
    "Implementation of modified algorithm to encounter the error in source receivers."
   ]
  },
  {
   "cell_type": "code",
   "execution_count": 9,
   "metadata": {},
   "outputs": [],
   "source": [
    "\n",
    "def src_Loc_recpos_error(rec_pos_mes, t_rec,c,src_pos,rec_pos_act):\n",
    "    '''The function returns the difference between the position of source(guessed) and receiver location as calculated from \n",
    "    measurement of time difference of arrival with the distance calculated from position of source and receiver. We aim to \n",
    "    minimise this quantity\n",
    "\n",
    "    rec_pos_mes = a matrix with  measured position of receivers stored in the following format [[x_1, y_1],[x_2,y_2]]\n",
    "    (contains error)\n",
    "    t_rec  = the time of arrival as measured from data\n",
    "    source_loc = the guessed source location for which the function is being evaluated\n",
    "    rec_pos_act = the actual receiver position\n",
    "    \n",
    "    '''\n",
    "    \n",
    "    n_rec = np.shape(rec_pos_mes)[0]\n",
    "    t_rec_rel1 = np.zeros(shape=(n_rec-1,1))   # time difference calculated wrt the value in first receiver\n",
    "    \n",
    "    t_rec_rel1[:] = t_rec[1:] - t_rec[0]     \n",
    "    \n",
    "    rec_pos_src_rel = np.zeros(shape =(n_rec-1,2)) # Calculating the relative position of recivers wrt the source\n",
    "    \n",
    "    rec_pos_src_rel[:] = rec_pos_mes[1:] -src_pos*np.ones_like(rec_pos_src_rel)  # relative position of receiver 1 wrt the source\n",
    "    \n",
    "    rec1_pos_src_rel = rec_pos_mes[0] -src_pos # the position of receiver one wrt the source\n",
    "    \n",
    "    rec_dist_src_rel = np.zeros(shape=(n_rec-1,1))\n",
    "    \n",
    "    rec1_dist_src_rel = np.sqrt(rec1_pos_src_rel[0]**2 + rec1_pos_src_rel[1]**2)\n",
    "    \n",
    "    rec_dist_src_rel[:] = np.sqrt(rec_pos_src_rel[:,0]**2 + rec_pos_src_rel[:,1]**2).reshape(n_rec-1,1)\n",
    "    \n",
    "    delta_r = t_rec_rel1*c\n",
    "    error_rec_pos = np.zeros(shape =(n_rec,2)) # error in position of the receiver\n",
    "    error_rec_pos[:,:] = rec_pos_mes[:,:] - rec_pos_act[:,:]\n",
    "    error_rec_dist =np.zeros(shape =(n_rec,1))\n",
    "    error_rec_dist[:]= np.sqrt(error_rec_pos[:,0]**2 + error_rec_pos[:,1]**2).reshape(n_rec,1)\n",
    "    error = np.zeros(shape =(n_rec-1,1))   # defing the error to be minimized\n",
    "    error[:] = delta_r[:] - (rec_dist_src_rel[:]-rec1_dist_src_rel)   \n",
    "    \n",
    "    error_to_min =np.dot(error.T,error) +np.dot(error_rec_dist.T,error_rec_dist)# Getting a single value instead of an array\n",
    "    \n",
    "    return error_to_min\n",
    "        "
   ]
  },
  {
   "cell_type": "code",
   "execution_count": 17,
   "metadata": {},
   "outputs": [],
   "source": [
    "# testing the above function for the case of all the three receivers and the source at a single place\n",
    "\n",
    "rec_pos_act= np.zeros(shape =(3,2))  # Let us say that there are 3 reeivers placed at origin\n",
    "rec_pos_act[0,:] = [3,0]\n",
    "rec_pos_act[1,:] = [0,2]\n",
    "rec_pos_act[2,:] = [-1,0]\n",
    "t_rec_ideal = np.zeros(shape =(3,1))  # ideal value at receivers\n",
    "t_rec_ideal[:] = np.array([3,2,1]).reshape(3,1)\n",
    "noise_t = np.random.normal(loc=0.0,scale =0.2,size = (3,1))\n",
    "noise_r = np.random.normal(loc=0.0,scale =0.2,size = (3,2))\n",
    "t_Rec_real = t_rec_ideal + noise_t\n",
    "rec_pos_mes= rec_pos_act +noise_r\n",
    "\n",
    "c = 1 # velocity of propagation\n"
   ]
  },
  {
   "cell_type": "code",
   "execution_count": 18,
   "metadata": {},
   "outputs": [],
   "source": [
    "# Now evaluating the function at various points in 2D\n",
    "\n",
    "x,y =np.mgrid[-4:4:10j,-4:4:10j]  # a 2D grid for defining domain and evaluation of source position\n",
    "error = np.zeros(shape=(10,10))  # To store the values at various points\n",
    "\n",
    "for i in range(10):\n",
    "    for j in range(10):\n",
    "        error[i,j] = src_Loc_recpos_error(rec_pos_mes=rec_pos_mes,t_rec=t_Rec_real,c=c,src_pos=np.array([x[i,j],y[i,j]]),rec_pos_act=rec_pos_act)"
   ]
  },
  {
   "cell_type": "code",
   "execution_count": 19,
   "metadata": {},
   "outputs": [],
   "source": [
    "plt.figure(figsize=(8,6))\n",
    "plt.contourf(x,y,error,levels=50)\n",
    "plt.xlabel('X(m)')\n",
    "plt.ylabel('Y(m)')\n",
    "plt.axis('equal')\n",
    "plt.colorbar()\n",
    "plt.title('Error contour for receivers with error in both time of arrival and known positon')"
   ]
  },
  {
   "cell_type": "code",
   "execution_count": 20,
   "metadata": {},
   "outputs": [],
   "source": [
    "#Trying a variation of the above function, in which the actual positions of receivers are used in error calculation.\n",
    "\n",
    "def src_Loc_recpos_error_2(rec_pos_mes, t_rec,c,src_pos,rec_pos_act):\n",
    "    '''The function returns the difference between the position of source(guessed) and receiver location as calculated from \n",
    "    measurement of time difference of arrival with the distance calculated from position of source and receiver. We aim to \n",
    "    minimise this quantity\n",
    "\n",
    "    rec_pos_mes = a matrix with  measured position of receivers stored in the following format [[x_1, y_1],[x_2,y_2]]\n",
    "    (contains error)\n",
    "    t_rec  = the time of arrival as measured from data\n",
    "    source_loc = the guessed source location for which the function is being evaluated\n",
    "    rec_pos_act = the actual receiver position\n",
    "    \n",
    "    '''\n",
    "    \n",
    "    n_rec = np.shape(rec_pos_mes)[0]\n",
    "    t_rec_rel1 = np.zeros(shape=(n_rec-1,1))   # time difference calculated wrt the value in first receiver\n",
    "    \n",
    "    t_rec_rel1[:] = t_rec[1:] - t_rec[0]     \n",
    "    \n",
    "    rec_pos_src_rel = np.zeros(shape =(n_rec-1,2)) # Calculating the relative position of recivers wrt the source\n",
    "    \n",
    "    rec_pos_src_rel[:] = rec_pos_act[1:] -src_pos*np.ones_like(rec_pos_src_rel)  # relative position of receiver 1 wrt the source\n",
    "    \n",
    "    rec1_pos_src_rel = rec_pos_act[0] -src_pos # the position of receiver one wrt the source\n",
    "    \n",
    "    rec_dist_src_rel = np.zeros(shape=(n_rec-1,1))\n",
    "    \n",
    "    rec1_dist_src_rel = np.sqrt(rec1_pos_src_rel[0]**2 + rec1_pos_src_rel[1]**2)\n",
    "    \n",
    "    rec_dist_src_rel[:] = np.sqrt(rec_pos_src_rel[:,0]**2 + rec_pos_src_rel[:,1]**2).reshape(n_rec-1,1)\n",
    "    \n",
    "    delta_r = t_rec_rel1*c\n",
    "    error_rec_pos = np.zeros(shape =(n_rec,2)) # error in position of the receiver\n",
    "    error_rec_pos[:,:] = rec_pos_mes[:,:] - rec_pos_act[:,:]\n",
    "    error_rec_dist =np.zeros(shape =(n_rec,1))\n",
    "    error_rec_dist[:]= np.sqrt(error_rec_pos[:,0]**2 + error_rec_pos[:,1]**2).reshape(n_rec,1)\n",
    "    error = np.zeros(shape =(n_rec-1,1))   # defing the error to be minimized\n",
    "    error[:] = delta_r[:] - (rec_dist_src_rel[:]-rec1_dist_src_rel)   \n",
    "    \n",
    "    error_to_min =np.dot(error.T,error) +np.dot(error_rec_dist.T,error_rec_dist)# Getting a single value instead of an array\n",
    "    \n",
    "    return error_to_min\n",
    "        "
   ]
  },
  {
   "cell_type": "code",
   "execution_count": 21,
   "metadata": {},
   "outputs": [],
   "source": [
    "\n",
    "\n",
    "rec_pos_act= np.zeros(shape =(3,2))  # Let us say that there are 3 reeivers placed at origin\n",
    "rec_pos_act[0,:] = [3,0]\n",
    "rec_pos_act[1,:] = [0,2]\n",
    "rec_pos_act[2,:] = [-1,0]\n",
    "t_rec_ideal = np.zeros(shape =(3,1))  # ideal value at receivers\n",
    "t_rec_ideal[:] = np.array([3,2,1]).reshape(3,1)\n",
    "noise_t = np.random.normal(loc=0.0,scale =0.2,size = (3,1))\n",
    "noise_r = np.random.normal(loc=0.0,scale =0.2,size = (3,2))\n",
    "t_Rec_real = t_rec_ideal + noise_t\n",
    "rec_pos_mes= rec_pos_act +noise_r\n",
    "\n",
    "c = 1 # velocity of propagation\n"
   ]
  },
  {
   "cell_type": "code",
   "execution_count": 22,
   "metadata": {},
   "outputs": [],
   "source": [
    "# Now evaluating the function at various points in 2D\n",
    "\n",
    "x,y =np.mgrid[-4:4:10j,-4:4:10j]  # a 2D grid for defining domain and evaluation of source position\n",
    "error = np.zeros(shape=(10,10))  # To store the values at various points\n",
    "\n",
    "for i in range(10):\n",
    "    for j in range(10):\n",
    "        error[i,j] = src_Loc_recpos_error(rec_pos_mes=rec_pos_mes,t_rec=t_Rec_real,c=c,src_pos=np.array([x[i,j],y[i,j]]),rec_pos_act=rec_pos_act)"
   ]
  },
  {
   "cell_type": "code",
   "execution_count": 23,
   "metadata": {},
   "outputs": [],
   "source": [
    "plt.figure(figsize=(8,6))\n",
    "plt.contourf(x,y,error,levels=50)\n",
    "plt.xlabel('X(m)')\n",
    "plt.ylabel('Y(m)')\n",
    "plt.axis('equal')\n",
    "plt.colorbar()\n",
    "plt.title('Error contour for receivers with error in both time of arrival and known position')"
   ]
  },
  {
   "cell_type": "markdown",
   "metadata": {},
   "source": [
    "Further we will have the following information more about the receivers:\n",
    "\n",
    "1. The magnitude of received signal. \n",
    "\n",
    "2. (Probably) S wave onset. \n",
    "\n",
    "The importance is that once we have got certain positions for receivers and some position for source, these additional informations can further help in reducing error in the required quantities. Once we have a sense of receivers' position , we can talk more comfortably about the magnitude. \n",
    "\n",
    "However, a point to note here is that we have directly entered the correct position of the receivers which won't be the case in real scenario. In real case, we might have to make some guess for the correct positions and iterate over it. A possible approach in this regard is the following:\n",
    "The guessed positions for the receivers are true. For the above case, we had measured positions, however we won't be having that. Hence, let us say that a reasonable guess is made based on the time difference of arrival. We can then do computation with these positions, after we have got a value for source,then we proceed with the second part, iterate over a small region around a single receiver and then perform these iterations over other receivers. \n",
    "\n",
    "First, let's try to iterate over the same process with random placement of receivers and check the result. Or even before that let's test the method for slightly different position of receiver (other than correct) being fed as the correct value. "
   ]
  },
  {
   "cell_type": "code",
   "execution_count": 24,
   "metadata": {},
   "outputs": [],
   "source": [
    "# Now evaluating the function at various points in 2D\n",
    "\n",
    "x,y =np.mgrid[-4:4:10j,-4:4:10j]  # a 2D grid for defining domain and evaluation of source position\n",
    "error = np.zeros(shape=(10,10))  # To store the values at various points\n",
    "rec_pos_modified = np.zeros_like(rec_pos_act)\n",
    "rec_pos_modified[:] = rec_pos_act[:] + [0.2 ,0.2]\n",
    "for i in range(10):\n",
    "    for j in range(10):\n",
    "        error[i,j] = src_Loc_recpos_error(rec_pos_mes=rec_pos_mes,t_rec=t_Rec_real,c=c,src_pos=np.array([x[i,j],y[i,j]]),rec_pos_act=rec_pos_modified)\n",
    "plt.figure(figsize=(8,6))\n",
    "plt.contourf(x,y,error,levels=50)\n",
    "plt.xlabel('X(m)')\n",
    "plt.ylabel('Y(m)')\n",
    "plt.axis('equal')\n",
    "plt.colorbar()\n",
    "plt.title('Error contour for receivers with error in both time of arrival and known position')"
   ]
  },
  {
   "cell_type": "code",
   "execution_count": 25,
   "metadata": {},
   "outputs": [],
   "source": [
    "# Now evaluating the function at various points in 2D\n",
    "\n",
    "x,y =np.mgrid[-4:4:10j,-4:4:10j]  # a 2D grid for defining domain and evaluation of source position\n",
    "error = np.zeros(shape=(10,10))  # To store the values at various points\n",
    "rec_pos_modified = np.zeros_like(rec_pos_act)\n",
    "rec_pos_modified[:] = rec_pos_act[:] + [0.4 ,0.4]\n",
    "for i in range(10):\n",
    "    for j in range(10):\n",
    "        error[i,j] = src_Loc_recpos_error(rec_pos_mes=rec_pos_mes,t_rec=t_Rec_real,c=c,src_pos=np.array([x[i,j],y[i,j]]),rec_pos_act=rec_pos_modified)\n",
    "plt.figure(figsize=(8,6))\n",
    "plt.contourf(x,y,error,levels=50)\n",
    "plt.xlabel('X(m)')\n",
    "plt.ylabel('Y(m)')\n",
    "plt.axis('equal')\n",
    "plt.colorbar()\n",
    "plt.title('Error contour for receivers with error in both time of arrival and known position')"
   ]
  },
  {
   "cell_type": "code",
   "execution_count": 26,
   "metadata": {},
   "outputs": [],
   "source": [
    "# Now evaluating the function at various points in 2D\n",
    "\n",
    "x,y =np.mgrid[-4:4:10j,-4:4:10j]  # a 2D grid for defining domain and evaluation of source position\n",
    "error = np.zeros(shape=(10,10))  # To store the values at various points\n",
    "rec_pos_modified = np.zeros_like(rec_pos_act)\n",
    "rec_pos_modified[:] = rec_pos_act[:] + [0.6 ,0.6]\n",
    "for i in range(10):\n",
    "    for j in range(10):\n",
    "        error[i,j] = src_Loc_recpos_error(rec_pos_mes=rec_pos_mes,t_rec=t_Rec_real,c=c,src_pos=np.array([x[i,j],y[i,j]]),rec_pos_act=rec_pos_modified)\n",
    "plt.figure(figsize=(8,6))\n",
    "plt.contourf(x,y,error,levels=50)\n",
    "plt.xlabel('X(m)')\n",
    "plt.ylabel('Y(m)')\n",
    "plt.axis('equal')\n",
    "plt.colorbar()\n",
    "plt.title('Error contour for receivers with error in both time of arrival and known position')"
   ]
  },
  {
   "cell_type": "code",
   "execution_count": 27,
   "metadata": {},
   "outputs": [],
   "source": [
    "# Now evaluating the function at various points in 2D\n",
    "\n",
    "x,y =np.mgrid[-4:4:10j,-4:4:10j]  # a 2D grid for defining domain and evaluation of source position\n",
    "error = np.zeros(shape=(10,10))  # To store the values at various points\n",
    "rec_pos_modified = np.zeros_like(rec_pos_act)\n",
    "rec_pos_modified[:] = rec_pos_act[:] + [1 ,1]\n",
    "for i in range(10):\n",
    "    for j in range(10):\n",
    "        error[i,j] = src_Loc_recpos_error(rec_pos_mes=rec_pos_mes,t_rec=t_Rec_real,c=c,src_pos=np.array([x[i,j],y[i,j]]),rec_pos_act=rec_pos_modified)\n",
    "plt.figure(figsize=(8,6))\n",
    "plt.contourf(x,y,error,levels=50)\n",
    "plt.xlabel('X(m)')\n",
    "plt.ylabel('Y(m)')\n",
    "plt.axis('equal')\n",
    "plt.colorbar()\n",
    "plt.title('Error contour for receivers with error in both time of arrival and known position')"
   ]
  },
  {
   "cell_type": "code",
   "execution_count": 28,
   "metadata": {},
   "outputs": [],
   "source": [
    "# Now evaluating the function at various points in 2D\n",
    "\n",
    "x,y =np.mgrid[-500:500:1000j,-500:500:1000j]  # a 2D grid for defining domain and evaluation of source position\n",
    "error = np.zeros(shape=(1000,1000))  # To store the values at various points\n",
    "rec_pos_modified = np.zeros_like(rec_pos_act)\n",
    "rec_pos_modified[:] = rec_pos_act[:]  # Can modify later if required\n",
    "for i in range(1000):\n",
    "    for j in range(1000):\n",
    "        error[i,j] = src_Loc_recpos_error(rec_pos_mes=rec_pos_mes,t_rec=t_Rec_real,c=c,src_pos=np.array([x[i,j],y[i,j]]),rec_pos_act=rec_pos_modified)\n",
    "plt.figure(figsize=(8,6))\n",
    "plt.contourf(x,y,error,levels=50)\n",
    "plt.plot(rec_pos_mes[:,0],rec_pos_mes[:,1],'b.',label='Receivers')\n",
    "plt.plot(100,100,'r^',label='Source position Actual')\n",
    "plt.plot(x[np.where(error == np.min(error))],y[np.where(error == np.min(error))],'g^',label='Source position estimated')\n",
    "plt.plot()\n",
    "plt.legend()\n",
    "plt.xlim(-500,500)\n",
    "plt.ylim(-500,500)\n",
    "plt.xlabel('X(m)')\n",
    "plt.ylabel('Y(m)')\n",
    "plt.axis('equal')\n",
    "plt.colorbar()\n",
    "plt.title('Error contour for receivers with error in both time of arrival and known position')"
   ]
  },
  {
   "cell_type": "code",
   "execution_count": null,
   "metadata": {},
   "outputs": [],
   "source": [
    "# Now evaluating the function at various points in 2D\n",
    "\n",
    "x,y =np.mgrid[-500:500:1000j,-500:500:1000j]  # a 2D grid for defining domain and evaluation of source position\n",
    "error = np.zeros(shape=(1000,1000))  # To store the values at various points\n",
    "rec_pos_modified = np.zeros_like(rec_pos_act)\n",
    "rec_pos_modified[:] = rec_pos_act[:]  # Can modify later if required\n",
    "for i in range(1000):\n",
    "    for j in range(1000):\n",
    "        error[i,j] = src_Loc_recpos_error(rec_pos_mes=rec_pos_mes,t_rec=t_Rec_real,c=c,src_pos=np.array([x[i,j],y[i,j]]),rec_pos_act=rec_pos_modified)\n",
    "plt.figure(figsize=(8,6))\n",
    "plt.contourf(x,y,error,levels=50)\n",
    "plt.plot(rec_pos_mes[:,0],rec_pos_mes[:,1],'b.',label='Receivers')\n",
    "plt.plot(100,100,'r^',label='Source position Actual')\n",
    "plt.plot(x[np.where(error == np.min(error))],y[np.where(error == np.min(error))],'g^',label='Source position estimated')\n",
    "plt.plot()\n",
    "plt.legend()\n",
    "plt.xlim(-500,500)\n",
    "plt.ylim(-500,500)\n",
    "plt.xlabel('X(m)')\n",
    "plt.ylabel('Y(m)')\n",
    "plt.axis('equal')\n",
    "plt.colorbar()\n",
    "plt.title('Error contour for receivers with error in both time of arrival and known position')"
   ]
  },
  {
   "cell_type": "markdown",
   "metadata": {},
   "source": [
    "Observing the above graphs, it looks like the pattern of error and the overall magnitude is not effected much. Need to check for the correctness. "
   ]
  },
  {
   "cell_type": "markdown",
   "metadata": {},
   "source": [
    "We need to figure out a way to carry out iterations in order to improve the accuracy of the method and try to minimize the error in receivers. First, we'll try out with sensors placed in a line with error. Then after observation of error obtained we'll look into methods which can reduce this error or some alternate way of doing it.\n",
    "\n",
    "https://asp-eurasipjournals.springeropen.com/articles/10.1186/s13634-019-0602-z For reference, it is here.The next thing to implement"
   ]
  },
  {
   "cell_type": "code",
   "execution_count": null,
   "metadata": {},
   "outputs": [],
   "source": [
    "# Testing out with 100 receivers placed in a line\n",
    "\n",
    "\n",
    "\n",
    "rec_pos_act= np.zeros(shape =(101,2))  # Let us say that there are 3 reeivers placed at origin\n",
    "rec_pos_act[:,0] = np.linspace(start=-100,stop=100,num=101)\n",
    "rec_pos_act[:,1] = 0                        \n",
    "t_rec_ideal = np.zeros(shape =(101,1))  # ideal value at receivers\n",
    "t_rec_ideal[50:101] = np.linspace(start =0, stop = 100, num=51).reshape(51,1)\n",
    "t_rec_ideal[0:50] = np.linspace(start =100, stop = 2, num=50).reshape(50,1)\n",
    "noise_t = np.random.normal(loc=0.0,scale =0.2,size = (101,1))\n",
    "noise_r = np.random.normal(loc=0.0,scale =0.2,size = (101,2))\n",
    "t_Rec_real = t_rec_ideal + noise_t\n",
    "rec_pos_mes= rec_pos_act +noise_r\n",
    "\n",
    "c = 1 # velocity of propagation\n",
    "\n"
   ]
  },
  {
   "cell_type": "code",
   "execution_count": null,
   "metadata": {},
   "outputs": [],
   "source": [
    "# Now evaluating the function at various points in 2D\n",
    "\n",
    "x,y =np.mgrid[-500:500:1000j,-500:500:1000j]  # a 2D grid for defining domain and evaluation of source position\n",
    "error = np.zeros(shape=(1000,1000))  # To store the values at various points\n",
    "rec_pos_modified = np.zeros_like(rec_pos_act)\n",
    "rec_pos_modified[:] = rec_pos_act[:]  # Can modify later if required\n",
    "for i in range(1000):\n",
    "    for j in range(1000):\n",
    "        error[i,j] = src_Loc_recpos_error(rec_pos_mes=rec_pos_mes,t_rec=t_Rec_real,c=c,src_pos=np.array([x[i,j],y[i,j]]),rec_pos_act=rec_pos_modified)\n",
    "plt.figure(figsize=(8,6))\n",
    "plt.contourf(x,y,error,levels=50)\n",
    "plt.plot(rec_pos_mes[:,0],rec_pos_mes[:,1],'b.',label='Receivers')\n",
    "plt.plot(100,100,'r^',label='Source position Actual')\n",
    "plt.plot(x[np.where(error == np.min(error))],y[np.where(error == np.min(error))],'g^',label='Source position estimated')\n",
    "plt.plot()\n",
    "plt.legend()\n",
    "plt.xlim(-500,500)\n",
    "plt.ylim(-500,500)\n",
    "plt.xlabel('X(m)')\n",
    "plt.ylabel('Y(m)')\n",
    "plt.axis('equal')\n",
    "plt.colorbar()\n",
    "plt.title('Error contour for receivers with error in both time of arrival and known position')"
   ]
  },
  {
   "cell_type": "code",
   "execution_count": null,
   "metadata": {},
   "outputs": [],
   "source": [
    "np.min(error)\n",
    "print(np.where(error == np.min(error)))\n",
    "print(x[np.where(error == np.min(error))],y[np.where(error == np.min(error))])"
   ]
  },
  {
   "cell_type": "markdown",
   "metadata": {},
   "source": [
    "We get the source location for min error as (500,501) which is (0,0.2). Quite close to  ther real solution of (0,0).Let's examine the result at a position different that the origin."
   ]
  },
  {
   "cell_type": "code",
   "execution_count": null,
   "metadata": {},
   "outputs": [],
   "source": [
    "# Testing out with 100 receivers placed in a line\n",
    "\n",
    "rec_pos_act= np.zeros(shape =(101,2))  # Let us say that there are 3 reeivers placed at origin\n",
    "rec_pos_act[:,0] = np.linspace(start=-100,stop=100,num=101)\n",
    "rec_pos_act[:,1] = 0                        \n",
    "t_rec_ideal = np.zeros(shape =(101,1))  # ideal value at receivers\n",
    "t_rec_ideal[:101] = np.linspace(start =0, stop = 200, num=101).reshape(101,1)\n",
    "#t_rec_ideal[0:50] = np.linspace(start =100, stop = 2, num=50).reshape(50,1)\n",
    "noise_t = np.random.normal(loc=0.0,scale =0.2,size = (101,1))\n",
    "noise_r = np.random.normal(loc=0.0,scale =0.2,size = (101,2))\n",
    "t_Rec_real = t_rec_ideal + noise_t\n",
    "rec_pos_mes= rec_pos_act +noise_r\n",
    "\n",
    "c = 1 # velocity of propagation\n",
    "\n"
   ]
  },
  {
   "cell_type": "code",
   "execution_count": null,
   "metadata": {},
   "outputs": [],
   "source": [
    "# Now evaluating the function at various points in 2D\n",
    "\n",
    "x,y =np.mgrid[-500:500:1000j,-500:500:1000j]  # a 2D grid for defining domain and evaluation of source position\n",
    "error = np.zeros(shape=(1000,1000))  # To store the values at various points\n",
    "rec_pos_modified = np.zeros_like(rec_pos_act)\n",
    "rec_pos_modified[:] = rec_pos_act[:]  # Can modify later if required\n",
    "for i in range(1000):\n",
    "    for j in range(1000):\n",
    "        error[i,j] = src_Loc_recpos_error(rec_pos_mes=rec_pos_mes,t_rec=t_Rec_real,c=c,src_pos=np.array([x[i,j],y[i,j]]),rec_pos_act=rec_pos_modified)\n",
    "plt.figure(figsize=(8,6))\n",
    "plt.contourf(x,y,error,levels=50)\n",
    "plt.plot(rec_pos_mes[:,0],rec_pos_mes[:,1],'b.',label='Receivers')\n",
    "plt.plot(100,100,'r^',label='Source position Actual')\n",
    "plt.plot(x[np.where(error == np.min(error))],y[np.where(error == np.min(error))],'g^',label='Source position estimated')\n",
    "plt.plot()\n",
    "plt.legend()\n",
    "plt.xlim(-500,500)\n",
    "plt.ylim(-500,500)\n",
    "plt.xlabel('X(m)')\n",
    "plt.ylabel('Y(m)')\n",
    "plt.axis('equal')\n",
    "plt.colorbar()\n",
    "plt.title('Error contour for receivers with error in both time of arrival and known position')"
   ]
  },
  {
   "cell_type": "code",
   "execution_count": null,
   "metadata": {},
   "outputs": [],
   "source": [
    "print(x[np.where(error==np.min(error))],y[np.where(error==np.min(error))])"
   ]
  },
  {
   "cell_type": "markdown",
   "metadata": {},
   "source": [
    "We see that the calculated value is not much different from the expected one. However, let us try another thing. This time, we'll reverse the placement of source and observe."
   ]
  },
  {
   "cell_type": "code",
   "execution_count": null,
   "metadata": {},
   "outputs": [],
   "source": [
    "# Testing out with 100 receivers placed in a line\n",
    "\n",
    "rec_pos_act= np.zeros(shape =(101,2))  # Let us say that there are 3 reeivers placed at origin\n",
    "rec_pos_act[:,0] = np.linspace(start=-100,stop=100,num=101)\n",
    "rec_pos_act[:,1] = 0                        \n",
    "t_rec_ideal = np.zeros(shape =(101,1))  # ideal value at receivers\n",
    "t_rec_ideal[:101] = np.linspace(start =200, stop = 0, num=101).reshape(101,1)\n",
    "#t_rec_ideal[0:50] = np.linspace(start =100, stop = 2, num=50).reshape(50,1)\n",
    "noise_t = np.random.normal(loc=0.0,scale =0.2,size = (101,1))\n",
    "noise_r = np.random.normal(loc=0.0,scale =0.2,size = (101,2))\n",
    "t_Rec_real = t_rec_ideal + noise_t\n",
    "rec_pos_mes= rec_pos_act +noise_r\n",
    "\n",
    "c = 1 # velocity of propagation\n",
    "\n"
   ]
  },
  {
   "cell_type": "code",
   "execution_count": null,
   "metadata": {},
   "outputs": [],
   "source": [
    "# Now evaluating the function at various points in 2D\n",
    "\n",
    "x,y =np.mgrid[-500:500:1000j,-500:500:1000j]  # a 2D grid for defining domain and evaluation of source position\n",
    "error = np.zeros(shape=(1000,1000))  # To store the values at various points\n",
    "rec_pos_modified = np.zeros_like(rec_pos_act)\n",
    "rec_pos_modified[:] = rec_pos_act[:]  # Can modify later if required\n",
    "for i in range(1000):\n",
    "    for j in range(1000):\n",
    "        error[i,j] = src_Loc_recpos_error(rec_pos_mes=rec_pos_mes,t_rec=t_Rec_real,c=c,src_pos=np.array([x[i,j],y[i,j]]),rec_pos_act=rec_pos_modified)\n",
    "plt.figure(figsize=(8,6))\n",
    "plt.contourf(x,y,error,levels=50)\n",
    "plt.plot(rec_pos_mes[:,0],rec_pos_mes[:,1],'b.',label='Receivers')\n",
    "plt.plot(100,100,'r^',label='Source position Actual')\n",
    "plt.plot(x[np.where(error == np.min(error))],y[np.where(error == np.min(error))],'g^',label='Source position estimated')\n",
    "plt.plot()\n",
    "plt.legend()\n",
    "plt.xlim(-500,500)\n",
    "plt.ylim(-500,500)\n",
    "plt.xlabel('X(m)')\n",
    "plt.ylabel('Y(m)')\n",
    "plt.axis('equal')\n",
    "plt.colorbar()\n",
    "plt.title('Error contour for receivers with error in both time of arrival and known position')"
   ]
  },
  {
   "cell_type": "code",
   "execution_count": null,
   "metadata": {},
   "outputs": [],
   "source": [
    "print(x[np.where(error==np.min(error))],y[np.where(error==np.min(error))])"
   ]
  },
  {
   "cell_type": "markdown",
   "metadata": {},
   "source": [
    "Interstingly, while the pattern looks just the mirror image of the previous one as it is epxected to be the error encountered here is quite large( expected =(100,0)). \n",
    "\n",
    "Note: The above remarks are made in the context of received results for a particular simulation where the results were (-113,1) and (500,1). Since, the program used random number generator to produce error different results may be obtained on different runs. however, so large error as observed in the second case deserves some serious thought and improvement technique if possible. Let's try to get some 5 numbers around the minima and observe."
   ]
  },
  {
   "cell_type": "code",
   "execution_count": null,
   "metadata": {},
   "outputs": [],
   "source": [
    "print(x[np.where(error <=5+np.min(error))],y[np.where(error<=5+np.min(error))])"
   ]
  },
  {
   "cell_type": "markdown",
   "metadata": {},
   "source": [
    "A careful examination of printed sequence clearrly tells that some\n",
    "terms near the minima are the corect source position. Let's look at it's distribution and find out."
   ]
  },
  {
   "cell_type": "code",
   "execution_count": null,
   "metadata": {},
   "outputs": [],
   "source": [
    "plt.hist(x[np.where(error <=5+np.min(error))],bins=5);"
   ]
  },
  {
   "cell_type": "code",
   "execution_count": null,
   "metadata": {},
   "outputs": [],
   "source": [
    "plt.hist(y[np.where(error <=5+np.min(error))],bins=5);"
   ]
  },
  {
   "cell_type": "markdown",
   "metadata": {},
   "source": [
    "We see that the receivers are aligned along the x axis, still the error observed is greater in x axis and quite tolerable in y axis. Let's now place a receiver at some point in y axis and then examine the results."
   ]
  },
  {
   "cell_type": "code",
   "execution_count": null,
   "metadata": {},
   "outputs": [],
   "source": [
    "# Testing out with 100 receivers placed in a line\n",
    "\n",
    "rec_pos_act= np.zeros(shape =(101,2))  # Let us say that there are 3 reeivers placed at origin\n",
    "rec_pos_act[:,0] = np.linspace(start=-100,stop=100,num=101)\n",
    "rec_pos_act[:,1] = 0                        \n",
    "t_rec_ideal = np.zeros(shape =(101,1))  # ideal value at receivers\n",
    "t_rec_ideal[:] = np.sqrt(100**2 + rec_pos_act[0:101,0]**2).reshape(101,1)\n",
    "#t_rec_ideal[0:50] = np.linspace(start =100, stop = 2, num=50).reshape(50,1)\n",
    "noise_t = np.random.normal(loc=0.0,scale =0.2,size = (101,1))\n",
    "noise_r = np.random.normal(loc=0.0,scale =0.2,size = (101,2))\n",
    "t_Rec_real = t_rec_ideal + noise_t\n",
    "rec_pos_mes= rec_pos_act +noise_r\n",
    "\n",
    "c = 1 # velocity of propagation\n",
    "\n"
   ]
  },
  {
   "cell_type": "code",
   "execution_count": null,
   "metadata": {},
   "outputs": [],
   "source": [
    "# Now evaluating the function at various points in 2D\n",
    "\n",
    "x,y =np.mgrid[-500:500:1000j,-500:500:1000j]  # a 2D grid for defining domain and evaluation of source position\n",
    "error = np.zeros(shape=(1000,1000))  # To store the values at various points\n",
    "rec_pos_modified = np.zeros_like(rec_pos_act)\n",
    "rec_pos_modified[:] = rec_pos_act[:]  # Can modify later if required\n",
    "for i in range(1000):\n",
    "    for j in range(1000):\n",
    "        error[i,j] = src_Loc_recpos_error(rec_pos_mes=rec_pos_mes,t_rec=t_Rec_real,c=c,src_pos=np.array([x[i,j],y[i,j]]),rec_pos_act=rec_pos_modified)\n",
    "plt.figure(figsize=(8,6))\n",
    "plt.contourf(x,y,error,levels=50)\n",
    "plt.plot(rec_pos_mes[:,0],rec_pos_mes[:,1],'b.',label='Receivers')\n",
    "plt.plot(100,100,'r^',label='Source position Actual')\n",
    "plt.plot(x[np.where(error == np.min(error))],y[np.where(error == np.min(error))],'g^',label='Source position estimated')\n",
    "plt.plot()\n",
    "plt.legend()\n",
    "plt.xlim(-500,500)\n",
    "plt.ylim(-500,500)\n",
    "plt.xlabel('X(m)')\n",
    "plt.ylabel('Y(m)')\n",
    "plt.axis('equal')\n",
    "plt.colorbar()\n",
    "plt.title('Error contour for receivers with error in both time of arrival and known position')"
   ]
  },
  {
   "cell_type": "code",
   "execution_count": null,
   "metadata": {},
   "outputs": [],
   "source": [
    "print(x[np.where(error <=5+np.min(error))],y[np.where(error<=5+np.min(error))])"
   ]
  },
  {
   "cell_type": "markdown",
   "metadata": {},
   "source": [
    "We see that the time reading given in this case was ambiguous(0,100) or(0,-100) both are correct. However, both the cases are covered quite nicely in the above distribution of possible points. We would need some additional information to solve this ambiguity. Let's try to keep receiver at a bit different position in the domain and observe the results."
   ]
  },
  {
   "cell_type": "code",
   "execution_count": null,
   "metadata": {},
   "outputs": [],
   "source": [
    "# Testing out with 100 receivers placed in a line\n",
    "\n",
    "rec_pos_act= np.zeros(shape =(101,2))  # Let us say that there are 3 reeivers placed at origin\n",
    "rec_pos_act[:,0] = np.linspace(start=-100,stop=100,num=101)\n",
    "rec_pos_act[:,1] = 0                        \n",
    "t_rec_ideal = np.zeros(shape =(101,1))  # ideal value at receivers\n",
    "t_rec_ideal[:] = np.sqrt(100**2 + (rec_pos_act[0:101,0]-100)**2).reshape(101,1)\n",
    "#t_rec_ideal[0:50] = np.linspace(start =100, stop = 2, num=50).reshape(50,1)\n",
    "noise_t = np.random.normal(loc=0.0,scale =0.2,size = (101,1))\n",
    "noise_r = np.random.normal(loc=0.0,scale =0.2,size = (101,2))\n",
    "t_Rec_real = t_rec_ideal + noise_t\n",
    "rec_pos_mes= rec_pos_act +noise_r\n",
    "\n",
    "c = 1 # velocity of propagation\n",
    "\n"
   ]
  },
  {
   "cell_type": "code",
   "execution_count": null,
   "metadata": {},
   "outputs": [],
   "source": [
    "# Now evaluating the function at various points in 2D\n",
    "\n",
    "x,y =np.mgrid[-500:500:1000j,-500:500:1000j]  # a 2D grid for defining domain and evaluation of source position\n",
    "error = np.zeros(shape=(1000,1000))  # To store the values at various points\n",
    "rec_pos_modified = np.zeros_like(rec_pos_act)\n",
    "rec_pos_modified[:] = rec_pos_act[:]  # Can modify later if required\n",
    "for i in range(1000):\n",
    "    for j in range(1000):\n",
    "        error[i,j] = src_Loc_recpos_error(rec_pos_mes=rec_pos_mes,t_rec=t_Rec_real,c=c,src_pos=np.array([x[i,j],y[i,j]]),rec_pos_act=rec_pos_modified)\n",
    "plt.figure(figsize=(8,6))\n",
    "plt.contourf(x,y,error,levels=50)\n",
    "plt.plot(rec_pos_mes[:,0],rec_pos_mes[:,1],'b.',label='Receivers')\n",
    "plt.plot(100,100,'r^',label='Source position Actual')\n",
    "plt.plot(x[np.where(error == np.min(error))],y[np.where(error == np.min(error))],'g^',label='Source position estimated')\n",
    "plt.plot()\n",
    "plt.legend()\n",
    "plt.xlim(-500,500)\n",
    "plt.ylim(-500,500)\n",
    "plt.xlabel('X(m)')\n",
    "plt.ylabel('Y(m)')\n",
    "plt.axis('equal')\n",
    "plt.colorbar()\n",
    "plt.title('Error contour for receivers with error in both time of arrival and known position')"
   ]
  },
  {
   "cell_type": "code",
   "execution_count": null,
   "metadata": {},
   "outputs": [],
   "source": [
    "print(x[np.where(error <=5+np.min(error))],y[np.where(error<=5+np.min(error))])"
   ]
  },
  {
   "cell_type": "markdown",
   "metadata": {},
   "source": [
    "As is clearly visible, the result is quite good for the receivers. Though the value is ambiguous. For reducing ambiguity, a better approach can be to place the receivers on two lines at an angle, this will avoid some symmetry and give better results."
   ]
  },
  {
   "cell_type": "code",
   "execution_count": null,
   "metadata": {},
   "outputs": [],
   "source": [
    "# Testing out with 100 receivers placed in a line\n",
    "\n",
    "rec_pos_act= np.zeros(shape =(101,2))  # Let us say that there are 3 reeivers placed at origin\n",
    "rec_pos_act[50:101,0] = np.linspace(start=0,stop=100,num=51)\n",
    "rec_pos_act[0:50,0] = np.linspace(start=2,stop=100,num=50)\n",
    "rec_pos_act[50:101,1] = np.linspace(start=0,stop=100,num=51)\n",
    "rec_pos_act[0:50,1] = np.linspace(start=2,stop=100,num=50)\n",
    "t_rec_ideal = np.zeros(shape =(101,1))  # ideal value at receivers\n",
    "t_rec_ideal[0:101] = np.sqrt((rec_pos_act[0:101,1]-100)**2 + (rec_pos_act[0:101,0]-100)**2).reshape(101,1)\n",
    "noise_t = np.random.normal(loc=0.0,scale =0.2,size = (101,1))\n",
    "noise_r = np.random.normal(loc=0.0,scale =0.2,size = (101,2))\n",
    "t_Rec_real = t_rec_ideal + noise_t\n",
    "rec_pos_mes= rec_pos_act +noise_r\n",
    "\n",
    "c = 1 # velocity of propagation\n",
    "\n"
   ]
  },
  {
   "cell_type": "code",
   "execution_count": null,
   "metadata": {},
   "outputs": [],
   "source": [
    "# Now evaluating the function at various points in 2D\n",
    "\n",
    "x,y =np.mgrid[-500:500:1000j,-500:500:1000j]  # a 2D grid for defining domain and evaluation of source position\n",
    "error = np.zeros(shape=(1000,1000))  # To store the values at various points\n",
    "rec_pos_modified = np.zeros_like(rec_pos_act)\n",
    "rec_pos_modified[:] = rec_pos_act[:]  # Can modify later if required\n",
    "for i in range(1000):\n",
    "    for j in range(1000):\n",
    "        error[i,j] = src_Loc_recpos_error(rec_pos_mes=rec_pos_mes,t_rec=t_Rec_real,c=c,src_pos=np.array([x[i,j],y[i,j]]),rec_pos_act=rec_pos_modified)\n",
    "plt.figure(figsize=(8,6))\n",
    "plt.contourf(x,y,error,levels=50)\n",
    "plt.plot(rec_pos_mes[:,0],rec_pos_mes[:,1],'b.',label='Receivers')\n",
    "plt.plot(100,100,'r^',label='Source position Actual')\n",
    "plt.plot(x[np.where(error == np.min(error))],y[np.where(error == np.min(error))],'g^',label='Source position estimated')\n",
    "plt.plot()\n",
    "plt.legend()\n",
    "plt.xlim(-500,500)\n",
    "plt.ylim(-500,500)\n",
    "plt.xlabel('X(m)')\n",
    "plt.ylabel('Y(m)')\n",
    "plt.axis('equal')\n",
    "plt.colorbar()\n",
    "plt.title('Error contour for receivers with error in both time of arrival and known position')"
   ]
  },
  {
   "cell_type": "code",
   "execution_count": null,
   "metadata": {},
   "outputs": [],
   "source": [
    "print(x[np.where(error <=5+np.min(error))],y[np.where(error<=5+np.min(error))])"
   ]
  },
  {
   "cell_type": "markdown",
   "metadata": {},
   "source": [
    "Since, there are so many value close to the smallest error, we'll see the distribution of it before any conclusion."
   ]
  },
  {
   "cell_type": "code",
   "execution_count": null,
   "metadata": {},
   "outputs": [],
   "source": [
    "plt.hist(x[np.where(error <=5+np.min(error))],bins=5);"
   ]
  },
  {
   "cell_type": "code",
   "execution_count": null,
   "metadata": {},
   "outputs": [],
   "source": [
    "plt.hist(y[np.where(error <=5+np.min(error))],bins=5);"
   ]
  },
  {
   "cell_type": "markdown",
   "metadata": {},
   "source": [
    "Thus we see that the results are a bit twisted for this pattern of receiver placements. Next, we'll try and work out problem with receiver position in iteration.\n",
    "\n",
    "A mistake that we might have been making is adding random noises to receiver position and time of receiving independently. A better way to do it could be to first add noise in receiver position, then the time of arrival should be for these positions long withthe additional error. This can be seen easily in the context we are modelling. For baselining the receiever we have a single point, however the time recorded by these receivers is dependent on the position of receiver about that point and not independently and randomly distributed. This we had failed to take into account. Let's try it this way now, first with a line configuration and then with a V configuration. Finally getting to a scenario where a point is only known."
   ]
  },
  {
   "cell_type": "code",
   "execution_count": null,
   "metadata": {},
   "outputs": [],
   "source": [
    "# Testing out with 101 receivers placed in a line\n",
    "\n",
    "rec_pos_act= np.zeros(shape =(101,2))  # Let us say that there are 3 reeivers placed at origin\n",
    "rec_pos_act[50:101,0] = np.linspace(start=0,stop=100,num=51)\n",
    "rec_pos_act[0:50,0] = np.linspace(start=2,stop=100,num=50)\n",
    "rec_pos_act[50:101,1] = np.linspace(start=0,stop=10,num=51)\n",
    "rec_pos_act[0:50,1] = np.linspace(start=2,stop=-10,num=50)\n",
    "noise_r = np.random.normal(loc=0.0,scale =0.2,size = (101,2))\n",
    "t_rec_ideal = np.zeros(shape =(101,1))  # ideal value at receivers\n",
    "rec_pos_mes= rec_pos_act +noise_r   \n",
    "t_rec_ideal[0:101] = np.sqrt((rec_pos_mes[0:101,1]-100)**2 + (rec_pos_mes[0:101,0]-100)**2).reshape(101,1)\n",
    "noise_t = np.random.normal(loc=0.0,scale =0.2,size = (101,1))\n",
    "t_Rec_real = t_rec_ideal + noise_t\n",
    "\n",
    "c = 1 # velocity of propagation\n",
    "\n",
    "# Note the different order in which the noises are added this time. "
   ]
  },
  {
   "cell_type": "code",
   "execution_count": null,
   "metadata": {},
   "outputs": [],
   "source": [
    "# Now evaluating the function at various points in 2D\n",
    "\n",
    "x,y =np.mgrid[-500:500:1000j,-500:500:1000j]  # a 2D grid for defining domain and evaluation of source position\n",
    "error = np.zeros(shape=(1000,1000))  # To store the values at various points\n",
    "rec_pos_modified = np.zeros_like(rec_pos_act)\n",
    "rec_pos_modified[:] = rec_pos_act[:]  # Can modify later if required\n",
    "for i in range(1000):\n",
    "    for j in range(1000):\n",
    "        error[i,j] = src_Loc_recpos_error(rec_pos_mes=rec_pos_mes[0:3],t_rec=t_Rec_real[0:3],c=c,src_pos=np.array([x[i,j],y[i,j]]),rec_pos_act=rec_pos_modified[0:3])\n",
    "plt.figure(figsize=(8,6))\n",
    "plt.contourf(x,y,error,levels=50)\n",
    "plt.plot(rec_pos_mes[0:3,0],rec_pos_mes[0:3,1],'b.',label='Receivers')\n",
    "plt.plot(100,100,'r^',label='Source position Actual')\n",
    "plt.plot(x[np.where(error == np.min(error))],y[np.where(error == np.min(error))],'g^',label='Source position estimated')\n",
    "plt.plot()\n",
    "plt.legend()\n",
    "plt.xlim(-500,500)\n",
    "plt.ylim(-500,500)\n",
    "plt.xlabel('X(m)')\n",
    "plt.ylabel('Y(m)')\n",
    "plt.axis('equal')\n",
    "plt.colorbar()\n",
    "plt.title('Error contour for receivers with error in both time of arrival and known position')"
   ]
  },
  {
   "cell_type": "markdown",
   "metadata": {},
   "source": [
    "Now that we have seen that result is much better this way with same amount of error, we can try to increase the error."
   ]
  },
  {
   "cell_type": "code",
   "execution_count": null,
   "metadata": {},
   "outputs": [],
   "source": [
    "# Testing out with 101 receivers placed in a line\n",
    "\n",
    "rec_pos_act= np.zeros(shape =(101,2))  # Let us say that there are 3 reeivers placed at origin\n",
    "rec_pos_act[50:101,0] = np.linspace(start=0,stop=100,num=51)\n",
    "rec_pos_act[0:50,0] = np.linspace(start=2,stop=100,num=50)\n",
    "rec_pos_act[50:101,1] = np.linspace(start=0,stop=10,num=51)\n",
    "rec_pos_act[0:50,1] = np.linspace(start=2,stop=-10,num=50)\n",
    "noise_r = np.random.normal(loc=0.0,scale =2,size = (101,2))\n",
    "t_rec_ideal = np.zeros(shape =(101,1))  # ideal value at receivers\n",
    "rec_pos_mes= rec_pos_act +noise_r   \n",
    "t_rec_ideal[0:101] = np.sqrt((rec_pos_mes[0:101,1]-100)**2 + (rec_pos_mes[0:101,0]-100)**2).reshape(101,1)\n",
    "noise_t = np.random.normal(loc=0.0,scale =2,size = (101,1))\n",
    "t_Rec_real = t_rec_ideal + noise_t\n",
    "\n",
    "c = 1 # velocity of propagation\n",
    "\n",
    "# Note the different order in which the noises are added this time. "
   ]
  },
  {
   "cell_type": "code",
   "execution_count": null,
   "metadata": {},
   "outputs": [],
   "source": [
    "# Now evaluating the function at various points in 2D\n",
    "\n",
    "x,y =np.mgrid[-500:500:1000j,-500:500:1000j]  # a 2D grid for defining domain and evaluation of source position\n",
    "error = np.zeros(shape=(1000,1000))  # To store the values at various points\n",
    "rec_pos_modified = np.zeros_like(rec_pos_act)\n",
    "rec_pos_modified[:] = rec_pos_act[:]  # Can modify later if required\n",
    "for i in range(1000):\n",
    "    for j in range(1000):\n",
    "        error[i,j] = src_Loc_recpos_error(rec_pos_mes=rec_pos_mes,t_rec=t_Rec_real,c=c,src_pos=np.array([x[i,j],y[i,j]]),rec_pos_act=rec_pos_modified)\n",
    "plt.figure(figsize=(8,6))\n",
    "plt.contourf(x,y,error,levels=50)\n",
    "plt.plot(rec_pos_mes[:,0],rec_pos_mes[:,1],'b.',label='Receivers')\n",
    "plt.plot(100,100,'r^',label='Source position Actual')\n",
    "plt.plot(x[np.where(error == np.min(error))],y[np.where(error == np.min(error))],'g^',label='Source position estimated')\n",
    "plt.plot()\n",
    "plt.legend()\n",
    "plt.xlim(-500,500)\n",
    "plt.ylim(-500,500)\n",
    "plt.xlabel('X(m)')\n",
    "plt.ylabel('Y(m)')\n",
    "plt.axis('equal')\n",
    "plt.colorbar()\n",
    "plt.title('Error contour for receivers with error in both time of arrival and known position')"
   ]
  },
  {
   "cell_type": "markdown",
   "metadata": {},
   "source": [
    "We see that an increase in error by an order of magnitude does not influence the result much and value obtained is quite good.Trying to increase error by another order of magnitude"
   ]
  },
  {
   "cell_type": "code",
   "execution_count": null,
   "metadata": {},
   "outputs": [],
   "source": [
    "# Testing out with 101 receivers placed in a line\n",
    "\n",
    "rec_pos_act= np.zeros(shape =(101,2))  # Let us say that there are 3 reeivers placed at origin\n",
    "rec_pos_act[50:101,0] = np.linspace(start=0,stop=100,num=51)\n",
    "rec_pos_act[0:50,0] = np.linspace(start=2,stop=100,num=50)\n",
    "rec_pos_act[50:101,1] = np.linspace(start=0,stop=10,num=51)\n",
    "rec_pos_act[0:50,1] = np.linspace(start=2,stop=-10,num=50)\n",
    "noise_r = np.random.normal(loc=0.0,scale =20,size = (101,2))\n",
    "t_rec_ideal = np.zeros(shape =(101,1))  # ideal value at receivers\n",
    "rec_pos_mes= rec_pos_act +noise_r   \n",
    "t_rec_ideal[0:101] = np.sqrt((rec_pos_mes[0:101,1]-100)**2 + (rec_pos_mes[0:101,0]-100)**2).reshape(101,1)\n",
    "noise_t = np.random.normal(loc=0.0,scale =20,size = (101,1))\n",
    "t_Rec_real = t_rec_ideal + noise_t\n",
    "\n",
    "c = 1 # velocity of propagation\n",
    "\n",
    "# Note the different order in which the noises are added this time. "
   ]
  },
  {
   "cell_type": "code",
   "execution_count": null,
   "metadata": {},
   "outputs": [],
   "source": [
    "# Now evaluating the function at various points in 2D\n",
    "\n",
    "x,y =np.mgrid[-500:500:1000j,-500:500:1000j]  # a 2D grid for defining domain and evaluation of source position\n",
    "error = np.zeros(shape=(1000,1000))  # To store the values at various points\n",
    "rec_pos_modified = np.zeros_like(rec_pos_act)\n",
    "rec_pos_modified[:] = rec_pos_act[:]  # Can modify later if required\n",
    "for i in range(1000):\n",
    "    for j in range(1000):\n",
    "        error[i,j] = src_Loc_recpos_error(rec_pos_mes=rec_pos_mes,t_rec=t_Rec_real,c=c,src_pos=np.array([x[i,j],y[i,j]]),rec_pos_act=rec_pos_modified)\n",
    "plt.figure(figsize=(8,6))\n",
    "plt.contourf(x,y,error,levels=50)\n",
    "plt.plot(rec_pos_mes[:,0],rec_pos_mes[:,1],'b.',label='Receivers')\n",
    "plt.plot(100,100,'r^',label='Source position Actual')\n",
    "plt.plot(x[np.where(error == np.min(error))],y[np.where(error == np.min(error))],'g^',label='Source position estimated')\n",
    "plt.plot()\n",
    "plt.legend()\n",
    "plt.xlim(-500,500)\n",
    "plt.ylim(-500,500)\n",
    "plt.xlabel('X(m)')\n",
    "plt.ylabel('Y(m)')\n",
    "plt.axis('equal')\n",
    "plt.colorbar()\n",
    "plt.title('Error contour for receivers with error in both time of arrival and known position')"
   ]
  },
  {
   "cell_type": "markdown",
   "metadata": {},
   "source": [
    "Now, the error here is quite large. Let's try to estimate the source location with only reference of a point. And huge error in positions but smaller error in time.   "
   ]
  },
  {
   "cell_type": "code",
   "execution_count": null,
   "metadata": {},
   "outputs": [],
   "source": [
    "# Testing out with 101 receivers placed in a line\n",
    "\n",
    "rec_pos_act= np.zeros(shape =(101,2))  # Let us say that there are 3 reeivers placed at origin\n",
    "rec_pos_act[:,:] = 0 # The deployer is at origin. \n",
    "noise_r = np.random.normal(loc=0.0,scale =20,size = (101,2))\n",
    "t_rec_ideal = np.zeros(shape =(101,1))  # ideal value at receivers\n",
    "rec_pos_mes= rec_pos_act +noise_r   \n",
    "t_rec_ideal[0:101] = np.sqrt((rec_pos_mes[0:101,1]-100)**2 + (rec_pos_mes[0:101,0]-100)**2).reshape(101,1)\n",
    "noise_t = np.random.normal(loc=0.0,scale =0.2,size = (101,1))\n",
    "t_Rec_real = t_rec_ideal + noise_t\n",
    "\n",
    "c = 1 # velocity of propagation\n",
    "\n",
    "# Note the different order in which the noises are added this time. "
   ]
  },
  {
   "cell_type": "code",
   "execution_count": null,
   "metadata": {},
   "outputs": [],
   "source": [
    "# Now evaluating the function at various points in 2D\n",
    "\n",
    "x,y =np.mgrid[-500:500:1000j,-500:500:1000j]  # a 2D grid for defining domain and evaluation of source position\n",
    "error = np.zeros(shape=(1000,1000))  # To store the values at various points\n",
    "rec_pos_modified = np.zeros_like(rec_pos_act)\n",
    "rec_pos_modified[:] = rec_pos_act[:]  # Can modify later if required\n",
    "for i in range(1000):\n",
    "    for j in range(1000):\n",
    "        error[i,j] = src_Loc_recpos_error(rec_pos_mes=rec_pos_mes,t_rec=t_Rec_real,c=c,src_pos=np.array([x[i,j],y[i,j]]),rec_pos_act=rec_pos_modified)\n",
    "plt.figure(figsize=(8,6))\n",
    "plt.contourf(x,y,error,levels=50)\n",
    "plt.plot(rec_pos_mes[:,0],rec_pos_mes[:,1],'b.',label='Receivers')\n",
    "plt.plot(100,100,'r^',label='Source position Actual')\n",
    "plt.plot(x[np.where(error == np.min(error))],y[np.where(error == np.min(error))],'g^',label='Source position estimated')\n",
    "plt.plot()\n",
    "plt.legend()\n",
    "plt.xlim(-500,500)\n",
    "plt.ylim(-500,500)\n",
    "plt.xlabel('X(m)')\n",
    "plt.ylabel('Y(m)')\n",
    "plt.axis('equal')\n",
    "plt.colorbar()\n",
    "plt.title('Error contour for receivers with error in both time of arrival and known position')"
   ]
  },
  {
   "cell_type": "markdown",
   "metadata": {},
   "source": [
    "We see that estimation is quite good. Let's try with a higher spread in receiver position"
   ]
  },
  {
   "cell_type": "code",
   "execution_count": null,
   "metadata": {},
   "outputs": [],
   "source": [
    "# Testing out with 101 receivers placed in a line\n",
    "\n",
    "rec_pos_act= np.zeros(shape =(101,2))  # Let us say that there are 3 reeivers placed at origin\n",
    "rec_pos_act[:,:] = 0 # The deployer is at origin. \n",
    "noise_r = np.random.normal(loc=0.0,scale =100,size = (101,2))\n",
    "t_rec_ideal = np.zeros(shape =(101,1))  # ideal value at receivers\n",
    "rec_pos_mes= rec_pos_act +noise_r   \n",
    "t_rec_ideal[0:101] = np.sqrt((rec_pos_mes[0:101,1]-100)**2 + (rec_pos_mes[0:101,0]-100)**2).reshape(101,1)\n",
    "noise_t = np.random.normal(loc=0.0,scale =0.2,size = (101,1))\n",
    "t_Rec_real = t_rec_ideal + noise_t\n",
    "\n",
    "c = 1 # velocity of propagation\n",
    "\n",
    "# Note the different order in which the noises are added this time. "
   ]
  },
  {
   "cell_type": "code",
   "execution_count": null,
   "metadata": {},
   "outputs": [],
   "source": [
    "# Now evaluating the function at various points in 2D\n",
    "\n",
    "x,y =np.mgrid[-500:500:1000j,-500:500:1000j]  # a 2D grid for defining domain and evaluation of source position\n",
    "error = np.zeros(shape=(1000,1000))  # To store the values at various points\n",
    "rec_pos_modified = np.zeros_like(rec_pos_act)\n",
    "rec_pos_modified[:] = rec_pos_act[:]  # Can modify later if required\n",
    "for i in range(1000):\n",
    "    for j in range(1000):\n",
    "        error[i,j] = src_Loc_recpos_error(rec_pos_mes=rec_pos_mes,t_rec=t_Rec_real,c=c,src_pos=np.array([x[i,j],y[i,j]]),rec_pos_act=rec_pos_modified)\n",
    "plt.figure(figsize=(8,6))\n",
    "plt.contourf(x,y,error,levels=50)\n",
    "plt.plot(rec_pos_mes[:,0],rec_pos_mes[:,1],'b.',label='Receivers')\n",
    "plt.plot(100,100,'r^',label='Source position Actual')\n",
    "plt.plot(x[np.where(error == np.min(error))],y[np.where(error == np.min(error))],'g^',label='Source position estimated')\n",
    "plt.plot()\n",
    "plt.legend()\n",
    "plt.xlim(-500,500)\n",
    "plt.ylim(-500,500)\n",
    "plt.xlabel('X(m)')\n",
    "plt.ylabel('Y(m)')\n",
    "plt.axis('equal')\n",
    "plt.colorbar()\n",
    "plt.title('Error contour for receivers with error in both time of arrival and known position')"
   ]
  },
  {
   "cell_type": "markdown",
   "metadata": {},
   "source": [
    "Now it seems that the areal spread has very little effect on the estimation of source position. Let us degrade the resolution of time with greater error being added and then observe the result."
   ]
  },
  {
   "cell_type": "code",
   "execution_count": null,
   "metadata": {},
   "outputs": [],
   "source": [
    "# Testing out with 101 receivers placed in a line\n",
    "\n",
    "rec_pos_act= np.zeros(shape =(101,2))  # Let us say that there are 3 reeivers placed at origin\n",
    "rec_pos_act[:,:] = 0 # The deployer is at origin. \n",
    "noise_r = np.random.normal(loc=0.0,scale =100,size = (101,2))\n",
    "t_rec_ideal = np.zeros(shape =(101,1))  # ideal value at receivers\n",
    "rec_pos_mes= rec_pos_act +noise_r   \n",
    "t_rec_ideal[0:101] = np.sqrt((rec_pos_mes[0:101,1]-100)**2 + (rec_pos_mes[0:101,0]-100)**2).reshape(101,1)\n",
    "noise_t = np.random.normal(loc=0.0,scale =2,size = (101,1))\n",
    "t_Rec_real = t_rec_ideal + noise_t\n",
    "\n",
    "c = 1 # velocity of propagation\n",
    "\n",
    "# Note the different order in which the noises are added this time. "
   ]
  },
  {
   "cell_type": "code",
   "execution_count": null,
   "metadata": {},
   "outputs": [],
   "source": [
    "# Now evaluating the function at various points in 2D\n",
    "\n",
    "x,y =np.mgrid[-500:500:1000j,-500:500:1000j]  # a 2D grid for defining domain and evaluation of source position\n",
    "error = np.zeros(shape=(1000,1000))  # To store the values at various points\n",
    "rec_pos_modified = np.zeros_like(rec_pos_act)\n",
    "rec_pos_modified[:] = rec_pos_act[:]  # Can modify later if required\n",
    "for i in range(1000):\n",
    "    for j in range(1000):\n",
    "        error[i,j] = src_Loc_recpos_error(rec_pos_mes=rec_pos_mes,t_rec=t_Rec_real,c=c,src_pos=np.array([x[i,j],y[i,j]]),rec_pos_act=rec_pos_modified)\n",
    "plt.figure(figsize=(8,6))\n",
    "plt.contourf(x,y,error,levels=50)\n",
    "plt.plot(rec_pos_mes[:,0],rec_pos_mes[:,1],'b.',label='Receivers')\n",
    "plt.plot(100,100,'r^',label='Source position Actual')\n",
    "plt.plot(x[np.where(error == np.min(error))],y[np.where(error == np.min(error))],'g^',label='Source position estimated')\n",
    "plt.plot()\n",
    "plt.legend()\n",
    "plt.xlim(-500,500)\n",
    "plt.ylim(-500,500)\n",
    "plt.xlabel('X(m)')\n",
    "plt.ylabel('Y(m)')\n",
    "plt.axis('equal')\n",
    "plt.colorbar()\n",
    "plt.title('Error contour for receivers with error in both time of arrival and known position')"
   ]
  },
  {
   "cell_type": "code",
   "execution_count": null,
   "metadata": {},
   "outputs": [],
   "source": [
    "# Testing out with 101 receivers placed in a line\n",
    "\n",
    "rec_pos_act= np.zeros(shape =(101,2))  # Let us say that there are 3 reeivers placed at origin\n",
    "rec_pos_act[:,:] = 0 # The deployer is at origin. \n",
    "noise_r = np.random.normal(loc=0.0,scale =100,size = (101,2))\n",
    "t_rec_ideal = np.zeros(shape =(101,1))  # ideal value at receivers\n",
    "rec_pos_mes= rec_pos_act +noise_r   \n",
    "t_rec_ideal[0:101] = np.sqrt((rec_pos_mes[0:101,1]-100)**2 + (rec_pos_mes[0:101,0]-100)**2).reshape(101,1)\n",
    "noise_t = np.random.normal(loc=0.0,scale =20,size = (101,1))\n",
    "t_Rec_real = t_rec_ideal + noise_t\n",
    "\n",
    "c = 1 # velocity of propagation\n",
    "\n",
    "# Note the different order in which the noises are added this time. "
   ]
  },
  {
   "cell_type": "code",
   "execution_count": null,
   "metadata": {},
   "outputs": [],
   "source": [
    "# Now evaluating the function at various points in 2D\n",
    "\n",
    "x,y =np.mgrid[-500:500:1000j,-500:500:1000j]  # a 2D grid for defining domain and evaluation of source position\n",
    "error = np.zeros(shape=(1000,1000))  # To store the values at various points\n",
    "rec_pos_modified = np.zeros_like(rec_pos_act)\n",
    "rec_pos_modified[:] = rec_pos_act[:]  # Can modify later if required\n",
    "for i in range(1000):\n",
    "    for j in range(1000):\n",
    "        error[i,j] = src_Loc_recpos_error(rec_pos_mes=rec_pos_mes,t_rec=t_Rec_real,c=c,src_pos=np.array([x[i,j],y[i,j]]),rec_pos_act=rec_pos_modified)\n",
    "plt.figure(figsize=(8,6))\n",
    "plt.contourf(x,y,error,levels=50)\n",
    "plt.plot(rec_pos_mes[:,0],rec_pos_mes[:,1],'b.',label='Receivers')\n",
    "plt.plot(100,100,'r^',label='Source position Actual')\n",
    "plt.plot(x[np.where(error == np.min(error))],y[np.where(error == np.min(error))],'g^',label='Source position estimated')\n",
    "plt.plot()\n",
    "plt.legend()\n",
    "plt.xlim(-500,500)\n",
    "plt.ylim(-500,500)\n",
    "plt.xlabel('X(m)')\n",
    "plt.ylabel('Y(m)')\n",
    "plt.axis('equal')\n",
    "plt.colorbar()\n",
    "plt.title('Error contour for receivers with error in both time of arrival and known position')"
   ]
  },
  {
   "cell_type": "code",
   "execution_count": null,
   "metadata": {},
   "outputs": [],
   "source": [
    "# Testing out with 101 receivers placed in a line\n",
    "\n",
    "rec_pos_act= np.zeros(shape =(101,2))  # Let us say that there are 3 reeivers placed at origin\n",
    "rec_pos_act[:,:] = 0 # The deployer is at origin. \n",
    "noise_r = np.random.normal(loc=0.0,scale =100,size = (101,2))\n",
    "t_rec_ideal = np.zeros(shape =(101,1))  # ideal value at receivers\n",
    "rec_pos_mes= rec_pos_act +noise_r   \n",
    "t_rec_ideal[0:101] = np.sqrt((rec_pos_mes[0:101,1]-100)**2 + (rec_pos_mes[0:101,0]-100)**2).reshape(101,1)\n",
    "noise_t = np.random.normal(loc=0.0,scale =50,size = (101,1))\n",
    "t_Rec_real = t_rec_ideal + noise_t\n",
    "\n",
    "c = 1 # velocity of propagation\n",
    "\n",
    "# Note the different order in which the noises are added this time. "
   ]
  },
  {
   "cell_type": "code",
   "execution_count": 4,
   "metadata": {},
   "outputs": [
    {
     "ename": "NameError",
     "evalue": "name 'rec_pos_act' is not defined",
     "output_type": "error",
     "traceback": [
      "\u001b[1;31m---------------------------------------------------------------------------\u001b[0m",
      "\u001b[1;31mNameError\u001b[0m                                 Traceback (most recent call last)",
      "\u001b[1;32m<ipython-input-4-5caa4c5c5452>\u001b[0m in \u001b[0;36m<module>\u001b[1;34m\u001b[0m\n\u001b[0;32m      3\u001b[0m \u001b[0mx\u001b[0m\u001b[1;33m,\u001b[0m\u001b[0my\u001b[0m \u001b[1;33m=\u001b[0m\u001b[0mnp\u001b[0m\u001b[1;33m.\u001b[0m\u001b[0mmgrid\u001b[0m\u001b[1;33m[\u001b[0m\u001b[1;33m-\u001b[0m\u001b[1;36m500\u001b[0m\u001b[1;33m:\u001b[0m\u001b[1;36m500\u001b[0m\u001b[1;33m:\u001b[0m\u001b[1;36m1000j\u001b[0m\u001b[1;33m,\u001b[0m\u001b[1;33m-\u001b[0m\u001b[1;36m500\u001b[0m\u001b[1;33m:\u001b[0m\u001b[1;36m500\u001b[0m\u001b[1;33m:\u001b[0m\u001b[1;36m1000j\u001b[0m\u001b[1;33m]\u001b[0m  \u001b[1;31m# a 2D grid for defining domain and evaluation of source position\u001b[0m\u001b[1;33m\u001b[0m\u001b[1;33m\u001b[0m\u001b[0m\n\u001b[0;32m      4\u001b[0m \u001b[0merror\u001b[0m \u001b[1;33m=\u001b[0m \u001b[0mnp\u001b[0m\u001b[1;33m.\u001b[0m\u001b[0mzeros\u001b[0m\u001b[1;33m(\u001b[0m\u001b[0mshape\u001b[0m\u001b[1;33m=\u001b[0m\u001b[1;33m(\u001b[0m\u001b[1;36m1000\u001b[0m\u001b[1;33m,\u001b[0m\u001b[1;36m1000\u001b[0m\u001b[1;33m)\u001b[0m\u001b[1;33m)\u001b[0m  \u001b[1;31m# To store the values at various points\u001b[0m\u001b[1;33m\u001b[0m\u001b[1;33m\u001b[0m\u001b[0m\n\u001b[1;32m----> 5\u001b[1;33m \u001b[0mrec_pos_modified\u001b[0m \u001b[1;33m=\u001b[0m \u001b[0mnp\u001b[0m\u001b[1;33m.\u001b[0m\u001b[0mzeros_like\u001b[0m\u001b[1;33m(\u001b[0m\u001b[0mrec_pos_act\u001b[0m\u001b[1;33m)\u001b[0m\u001b[1;33m\u001b[0m\u001b[1;33m\u001b[0m\u001b[0m\n\u001b[0m\u001b[0;32m      6\u001b[0m \u001b[0mrec_pos_modified\u001b[0m\u001b[1;33m[\u001b[0m\u001b[1;33m:\u001b[0m\u001b[1;33m]\u001b[0m \u001b[1;33m=\u001b[0m \u001b[0mrec_pos_act\u001b[0m\u001b[1;33m[\u001b[0m\u001b[1;33m:\u001b[0m\u001b[1;33m]\u001b[0m  \u001b[1;31m# Can modify later if required\u001b[0m\u001b[1;33m\u001b[0m\u001b[1;33m\u001b[0m\u001b[0m\n\u001b[0;32m      7\u001b[0m \u001b[1;32mfor\u001b[0m \u001b[0mi\u001b[0m \u001b[1;32min\u001b[0m \u001b[0mrange\u001b[0m\u001b[1;33m(\u001b[0m\u001b[1;36m1000\u001b[0m\u001b[1;33m)\u001b[0m\u001b[1;33m:\u001b[0m\u001b[1;33m\u001b[0m\u001b[1;33m\u001b[0m\u001b[0m\n",
      "\u001b[1;31mNameError\u001b[0m: name 'rec_pos_act' is not defined"
     ]
    }
   ],
   "source": [
    "# Now evaluating the function at various points in 2D\n",
    "\n",
    "x,y =np.mgrid[-500:500:1000j,-500:500:1000j]  # a 2D grid for defining domain and evaluation of source position\n",
    "error = np.zeros(shape=(1000,1000))  # To store the values at various points\n",
    "rec_pos_modified = np.zeros_like(rec_pos_act)\n",
    "rec_pos_modified[:] = rec_pos_act[:]  # Can modify later if required\n",
    "for i in range(1000):\n",
    "    for j in range(1000):\n",
    "        error[i,j] = src_Loc_recpos_error(rec_pos_mes=rec_pos_mes,t_rec=t_Rec_real,c=c,src_pos=np.array([x[i,j],y[i,j]]),rec_pos_act=rec_pos_modified)\n",
    "plt.figure(figsize=(8,6))\n",
    "plt.contourf(x,y,error,levels=50)\n",
    "plt.plot(rec_pos_mes[:,0],rec_pos_mes[:,1],'b.',label='Receivers')\n",
    "plt.plot(100,100,'r^',label='Source position Actual')\n",
    "plt.plot(x[np.where(error == np.min(error))],y[np.where(error == np.min(error))],'g^',label='Source position estimated')\n",
    "plt.plot()\n",
    "plt.legend()\n",
    "plt.xlim(-500,500)\n",
    "plt.ylim(-500,500)\n",
    "plt.xlabel('X(m)')\n",
    "plt.ylabel('Y(m)')\n",
    "plt.axis('equal')\n",
    "plt.colorbar()\n",
    "plt.title('Error contour for receivers with error in both time of arrival and known position')"
   ]
  },
  {
   "cell_type": "markdown",
   "metadata": {},
   "source": [
    "With error in time leading to cause around 25% spread uncertainity. The results seem to deviate a bit. Let's return to good resolution of time axis and displace the source towards the edge of domain to test the applicabilty."
   ]
  },
  {
   "cell_type": "code",
   "execution_count": 3,
   "metadata": {},
   "outputs": [],
   "source": [
    "# Testing out with 101 receivers placed in a line\n",
    "\n",
    "rec_pos_act= np.zeros(shape =(9,2))  # Let us say that there are 3 reeivers placed at origin\n",
    "rec_pos_act[:,:] = 0 # The deployer is at origin. \n",
    "noise_r = np.random.normal(loc=0.0,scale =100,size = (9,2))\n",
    "noise_r_2=np.random.normal(loc=0.0,scale =100,size = (9,2))\n",
    "noise_r_3=np.random.normal(loc=0.0,scale =100,size = (9,2))\n",
    "t_rec_ideal = np.zeros(shape =(9,1))  # ideal value at receivers\n",
    "rec_pos_mes= rec_pos_act +noise_r\n",
    "rec_pos_mes_2= rec_pos_act +noise_r_2\n",
    "t_rec_ideal[0:102] = np.sqrt((rec_pos_mes[0:9,1]-400)**2 + (rec_pos_mes[0:9,0]-400)**2).reshape(9,1)\n",
    "noise_t = np.random.normal(loc=0.0,scale =0.2,size = (9,1))\n",
    "t_Rec_real = t_rec_ideal + noise_t\n",
    "\n",
    "c = 1 # velocity of propagation\n",
    "\n",
    "# Note the different order in which the noises are added this time. "
   ]
  },
  {
   "cell_type": "code",
   "execution_count": 4,
   "metadata": {},
   "outputs": [
    {
     "data": {
      "text/plain": [
       "array([[ -82.52206377,  -93.08165588],\n",
       "       [ -60.06998821,   68.57301289],\n",
       "       [ -87.93003754,  -58.83410567],\n",
       "       [-110.94604052, -102.31359035],\n",
       "       [  70.6307751 ,  -11.1649552 ],\n",
       "       [ 165.36776967, -273.0513779 ],\n",
       "       [-107.09436147,  -20.89053507],\n",
       "       [ -91.42046517,  -76.06032259],\n",
       "       [  45.39933382,   77.38932723]])"
      ]
     },
     "execution_count": 4,
     "metadata": {},
     "output_type": "execute_result"
    }
   ],
   "source": [
    "noise_r_3=np.random.normal(loc=0.0,scale =100,size = (9,2))\n",
    "noise_r_3"
   ]
  },
  {
   "cell_type": "code",
   "execution_count": 5,
   "metadata": {},
   "outputs": [
    {
     "data": {
      "text/plain": [
       "array([[ 114.24752196,  114.34499353],\n",
       "       [  -9.34201635,   76.98063685],\n",
       "       [-186.61626183,  107.60826407],\n",
       "       [  29.65148648,  -16.08306865],\n",
       "       [ -88.18956283,  -51.74825095],\n",
       "       [-107.43403978,  -47.85646188],\n",
       "       [  78.50152683,   88.82156813],\n",
       "       [  96.30064354,   55.36045184],\n",
       "       [-103.5951829 ,  -61.5660356 ]])"
      ]
     },
     "execution_count": 5,
     "metadata": {},
     "output_type": "execute_result"
    }
   ],
   "source": [
    "noise_r_3=np.random.normal(loc=0.0,scale =100,size = (9,2))\n",
    "noise_r_3"
   ]
  },
  {
   "cell_type": "code",
   "execution_count": 16,
   "metadata": {},
   "outputs": [
    {
     "name": "stdout",
     "output_type": "stream",
     "text": [
      "1\n"
     ]
    },
    {
     "ename": "ValueError",
     "evalue": "setting an array element with a sequence.",
     "output_type": "error",
     "traceback": [
      "\u001b[1;31m---------------------------------------------------------------------------\u001b[0m",
      "\u001b[1;31mTypeError\u001b[0m                                 Traceback (most recent call last)",
      "\u001b[1;31mTypeError\u001b[0m: only size-1 arrays can be converted to Python scalars",
      "\nThe above exception was the direct cause of the following exception:\n",
      "\u001b[1;31mValueError\u001b[0m                                Traceback (most recent call last)",
      "\u001b[1;32m<ipython-input-16-fd90ca6393a4>\u001b[0m in \u001b[0;36m<module>\u001b[1;34m\u001b[0m\n\u001b[0;32m     30\u001b[0m                     \u001b[0mt\u001b[0m\u001b[1;33m+=\u001b[0m\u001b[1;36m1\u001b[0m\u001b[1;33m\u001b[0m\u001b[1;33m\u001b[0m\u001b[0m\n\u001b[0;32m     31\u001b[0m                     \u001b[0mprint\u001b[0m\u001b[1;33m(\u001b[0m\u001b[0mt\u001b[0m\u001b[1;33m)\u001b[0m\u001b[1;33m\u001b[0m\u001b[1;33m\u001b[0m\u001b[0m\n\u001b[1;32m---> 32\u001b[1;33m                     \u001b[0mspos\u001b[0m\u001b[1;33m[\u001b[0m\u001b[0mn\u001b[0m\u001b[1;33m-\u001b[0m\u001b[1;36m1\u001b[0m\u001b[1;33m,\u001b[0m\u001b[1;36m0\u001b[0m\u001b[1;33m]\u001b[0m\u001b[1;33m=\u001b[0m\u001b[0mx\u001b[0m\u001b[1;33m[\u001b[0m\u001b[0mnp\u001b[0m\u001b[1;33m.\u001b[0m\u001b[0mwhere\u001b[0m\u001b[1;33m(\u001b[0m\u001b[0merror\u001b[0m \u001b[1;33m==\u001b[0m \u001b[0mnp\u001b[0m\u001b[1;33m.\u001b[0m\u001b[0mmin\u001b[0m\u001b[1;33m(\u001b[0m\u001b[0merror\u001b[0m\u001b[1;33m)\u001b[0m\u001b[1;33m)\u001b[0m\u001b[1;33m]\u001b[0m\u001b[1;33m\u001b[0m\u001b[1;33m\u001b[0m\u001b[0m\n\u001b[0m\u001b[0;32m     33\u001b[0m                     \u001b[0mspos\u001b[0m\u001b[1;33m[\u001b[0m\u001b[0mn\u001b[0m\u001b[1;33m-\u001b[0m\u001b[1;36m1\u001b[0m\u001b[1;33m,\u001b[0m\u001b[1;36m1\u001b[0m\u001b[1;33m]\u001b[0m\u001b[1;33m=\u001b[0m\u001b[0my\u001b[0m\u001b[1;33m[\u001b[0m\u001b[0mnp\u001b[0m\u001b[1;33m.\u001b[0m\u001b[0mwhere\u001b[0m\u001b[1;33m(\u001b[0m\u001b[0merror\u001b[0m \u001b[1;33m==\u001b[0m \u001b[0mnp\u001b[0m\u001b[1;33m.\u001b[0m\u001b[0mmin\u001b[0m\u001b[1;33m(\u001b[0m\u001b[0merror\u001b[0m\u001b[1;33m)\u001b[0m\u001b[1;33m)\u001b[0m\u001b[1;33m]\u001b[0m\u001b[1;33m\u001b[0m\u001b[1;33m\u001b[0m\u001b[0m\n\u001b[0;32m     34\u001b[0m                     \u001b[0mplt\u001b[0m\u001b[1;33m.\u001b[0m\u001b[0mfigure\u001b[0m\u001b[1;33m(\u001b[0m\u001b[0mfigsize\u001b[0m\u001b[1;33m=\u001b[0m\u001b[1;33m(\u001b[0m\u001b[1;36m8\u001b[0m\u001b[1;33m,\u001b[0m\u001b[1;36m6\u001b[0m\u001b[1;33m)\u001b[0m\u001b[1;33m)\u001b[0m\u001b[1;33m\u001b[0m\u001b[1;33m\u001b[0m\u001b[0m\n",
      "\u001b[1;31mValueError\u001b[0m: setting an array element with a sequence."
     ]
    }
   ],
   "source": [
    "# Now evaluating the function at various points in 2D\n",
    "noise_r_3=np.random.normal(loc=0.0,scale =100,size = (9,2))\n",
    "x,y =np.mgrid[-500:500:1000j,-500:500:1000j]  # a 2D grid for defining domain and evaluation of source position\n",
    "error = np.zeros(shape=(1000,1000)) # To store the values at various points\n",
    "error2 = np.zeros(shape=(1000,1000)) \n",
    "rec_pos_modified = np.zeros_like(rec_pos_act)\n",
    "rec_pos_modified[:] = rec_pos_act[:] + noise_r_3[:]  # Can modify later if required\n",
    "rec_pos_mes_2[:]=rec_pos_mes_2[:]+ noise_r_3[:]\n",
    "spos1=[]\n",
    "spos2=[]\n",
    "spos=np.zeros(shape =(164,2))\n",
    "t_avg =np.mean(t_Rec_real)\n",
    "rad_domain = np.sqrt(x**2 + y**2) # radius from the origin of each point in domain\n",
    "r_avg = t_avg*c\n",
    "n=0\n",
    "t=0\n",
    "for m in range(8):\n",
    "    for l in range (m,9):\n",
    "        for k in range(l,9):\n",
    "                    if(k!=m or k!=l):\n",
    "                        for i in range(1000):\n",
    "                             for j in range(1000):\n",
    "                                if rad_domain[i,j] > r_avg  - 50  and  rad_domain[i,j] < r_avg  + 50:\n",
    "                                    error[i,j] = src_Loc(rec_pos=np.array([rec_pos_modified[m],rec_pos_modified[l],rec_pos_modified[k]]),t_rec=np.array([t_Rec_real[m],t_Rec_real[l],t_Rec_real[k]]),c=c,src_pos=np.array([x[i,j],y[i,j]]))\n",
    "                                else:\n",
    "                                    error[i,j] = np.max(error)+1e8    \n",
    "                    n+=1\n",
    "                    t+=1\n",
    "                    print(t)\n",
    "                    spos[n-1,0]=x[np.where(error == np.min(error))]\n",
    "                    spos[n-1,1]=y[np.where(error == np.min(error))]\n",
    "                    plt.figure(figsize=(8,6))\n",
    "                    plt.contourf(x,y,error,levels=50)\n",
    "#plt.figure(figsize=(8,6))\n",
    "#plt .contourf(x,y,spos,levels=50)\n",
    "                    plt.plot(rec_pos_mes[:,0],rec_pos_mes[:,1],'b.',label='Receivers')\n",
    "                    plt.plot(rec_pos_mes_2[:,0],rec_pos_mes_2[:,1],'g.',label='Receivers')\n",
    "                    plt.plot(spos[:,0],spos[:,1],'r.',label='Source position estimated_2')\n",
    "                    plt.plot(400,400,'r^',label='Source position Actual')\n",
    "                    plt.plot(x[np.where(error == np.min(error))],y[np.where(error == np.min(error))],'g^',label='Source position estimated')\n",
    "                    plt.plot()\n",
    "                    plt.legend()\n",
    "                    plt.xlim(-500,500)\n",
    "                    plt.ylim(-500,500)\n",
    "                    plt.xlabel('X(m)')\n",
    "                    plt.ylabel('Y(m)')\n",
    "                    plt.axis('equal')\n",
    "                    plt.colorbar()\n",
    "                    plt.title('Error contour for receivers with error in both time of arrival and known position')\n",
    "                    spos[:,0]=spos[:,0]-400\n",
    "                    spos[:,1]=spos[:,1]-400\n",
    "                    print(spos)"
   ]
  },
  {
   "cell_type": "code",
   "execution_count": null,
   "metadata": {},
   "outputs": [],
   "source": [
    "spos[:,0]=spos[:,0]-400\n",
    "spos[:,1]=spos1[:,1]-400"
   ]
  },
  {
   "cell_type": "code",
   "execution_count": null,
   "metadata": {},
   "outputs": [],
   "source": [
    "print(spos)"
   ]
  },
  {
   "cell_type": "code",
   "execution_count": null,
   "metadata": {},
   "outputs": [],
   "source": [
    "est_sor_pos()\n"
   ]
  }
 ],
 "metadata": {
  "kernelspec": {
   "display_name": "Python 3",
   "language": "python",
   "name": "python3"
  },
  "language_info": {
   "codemirror_mode": {
    "name": "ipython",
    "version": 3
   },
   "file_extension": ".py",
   "mimetype": "text/x-python",
   "name": "python",
   "nbconvert_exporter": "python",
   "pygments_lexer": "ipython3",
   "version": "3.9.4"
  }
 },
 "nbformat": 4,
 "nbformat_minor": 2
}
